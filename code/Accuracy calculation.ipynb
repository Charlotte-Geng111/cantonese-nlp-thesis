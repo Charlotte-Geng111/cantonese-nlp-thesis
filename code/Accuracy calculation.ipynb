{
 "cells": [
  {
   "cell_type": "markdown",
   "id": "ec58dc3f",
   "metadata": {},
   "source": [
    "### get accuracy, precision, recall, f1_score"
   ]
  },
  {
   "cell_type": "code",
   "execution_count": 3,
   "id": "ba7aed58",
   "metadata": {
    "scrolled": true
   },
   "outputs": [
    {
     "name": "stdout",
     "output_type": "stream",
     "text": [
      "Accuracy: 0.9006 (90.06%)\n",
      "Precision: 0.9882 (98.82%)\n",
      "Recall: 0.8996 (89.96%)\n",
      "F1-Score: 0.9418 (94.18%)\n"
     ]
    }
   ],
   "source": [
    "import json\n",
    "import re\n",
    "\n",
    "def load_jsonl(file_path):\n",
    "    data = []\n",
    "    with open(file_path, 'r', encoding='utf-8') as f:\n",
    "        for line in f:\n",
    "            data.append(json.loads(line))\n",
    "    return data\n",
    "\n",
    "def clean_prediction(prediction):\n",
    "    \"\"\" 清洗 predict 字段，提取'正面'或'负面' \"\"\"\n",
    "    prediction = prediction.strip().lower()  # 去除空格和换行符\n",
    "    match = re.search(r\"(正|负)\", prediction)  # 只提取“正”或“负”\n",
    "    return match.group(1) if match else \"unknown\"  # 如果匹配不到，返回\"unknown\"\n",
    "\n",
    "def calculate_metrics(data):\n",
    "    \"\"\" 计算准确率、精确率、召回率、F1 分数 \"\"\"\n",
    "    TP = FP = TN = FN = 0    \n",
    "\n",
    "    for entry in data:\n",
    "        label = entry['label'].strip().lower()  # 去掉换行符\n",
    "        predict = clean_prediction(entry.get('predict', ''))  # 清理 predict 里的多余内容\n",
    "\n",
    "        # 计算 TP, FP, TN, FN\n",
    "        if label == '正面' and predict == '正':  # 预测对了（正类）\n",
    "            TP += 1\n",
    "        elif label == '负面' and predict == '正':  # 误判为正类（本来是负面）\n",
    "            FP += 1\n",
    "        elif label == '负面' and predict == '负':  # 预测对了（负类）\n",
    "            TN += 1\n",
    "        elif label == '正面' and predict == '负':  # 误判为负类（本来是正面）\n",
    "            FN += 1    \n",
    "\n",
    "    # 计算评估指标\n",
    "    total = TP + FP + TN + FN\n",
    "    accuracy = (TP + TN) / total if total > 0 else 0\n",
    "    precision = TP / (TP + FP) if (TP + FP) > 0 else 0\n",
    "    recall = TP / (TP + FN) if (TP + FN) > 0 else 0\n",
    "    f1_score = 2 * precision * recall / (precision + recall) if (precision + recall) > 0 else 0    \n",
    "    \n",
    "    return accuracy, precision, recall, f1_score\n",
    "\n",
    "def main(file_path):\n",
    "    \"\"\" 主函数，计算并输出指标 \"\"\"\n",
    "    data = load_jsonl(file_path)\n",
    "    accuracy, precision, recall, f1_score = calculate_metrics(data)    \n",
    "#     print(f\"Accuracy: {accuracy:.4f}\")\n",
    "#     print(f\"Precision: {precision:.4f}\")\n",
    "#     print(f\"F1-Score: {f1_score:.4f}\")\n",
    "#     print(f\"Recall: {recall:.4f}\")\n",
    "    print(f\"Accuracy: {accuracy:.4f} ({accuracy * 100:.2f}%)\")\n",
    "    print(f\"Precision: {precision:.4f} ({precision * 100:.2f}%)\")\n",
    "    print(f\"Recall: {recall:.4f} ({recall * 100:.2f}%)\")\n",
    "    print(f\"F1-Score: {f1_score:.4f} ({f1_score * 100:.2f}%)\")\n",
    "    \n",
    "\n",
    "\n",
    "# Zero-shot\n",
    "# file_path = 'Text Analysis/zero-shot/Llama-3-Cantonese-8B-Instruct_Openrice_test_alpaca_no_emojis_generated_predictions.jsonl' \n",
    "# file_path = 'Text Analysis/zero-shot/Llama-3-Cantonese-8B-Instruct_Openrice_test_alpaca_with_emojis_generated_predictions.jsonl' \n",
    "# file_path = 'Text Analysis/zero-shot/Llama-3-Cantonese-8B-Instruct_Openrice_test_alpaca_with_emojis_texts_generated_predictions.jsonl' \n",
    "# file_path = 'Text Analysis/zero-shot/Llama-3.1-Cantonese-8B-Instruct_Openrice_test_alpaca_no_emojis_generated_predictions.jsonl' \n",
    "# file_path = 'Text Analysis/zero-shot/Llama-3.1-Cantonese-8B-Instruct_Openrice_test_alpaca_with_emojis_generated_predictions.jsonl'\n",
    "# file_path = 'Text Analysis/zero-shot/Llama-3.1-Cantonese-8B-Instruct_Openrice_test_alpaca_with_emojis_texts_generated_predictions.jsonl'\n",
    "# file_path = 'Text Analysis/zero-shot/Qwen-7B-Chat-Cantonese_Openrice_test_alpaca_no_emojis_generated_predictions.jsonl'\n",
    "# file_path = 'Text Analysis/zero-shot/Qwen-7B-Chat-Cantonese_Openrice_test_alpaca_with_emojis_generated_predictions.jsonl'\n",
    "# file_path = 'Text Analysis/zero-shot/Qwen-7B-Chat-Cantonese_Openrice_test_alpaca_with_emojis_texts_generated_predictions.jsonl'\n",
    "# file_path = 'Text Analysis/zero-shot/Qwen2-Cantonese-7B-Instruct_Openrice_test_alpaca_no_emojis_generated_predictions.jsonl'\n",
    "# file_path = 'Text Analysis/zero-shot/Qwen2-Cantonese-7B-Instruct_Openrice_test_alpaca_with_emojis_generated_predictions.jsonl'\n",
    "# file_path = 'Text Analysis/zero-shot/Qwen2-Cantonese-7B-Instruct_Openrice_test_alpaca_with_emojis_texts_generated_predictions.jsonl'\n",
    "\n",
    "#Finetuning \n",
    "# file_path = 'Text Analysis/finetuning/Llama-3-Cantonese-8B-Instruct_Openrice_test_alpaca_no_emojis_generated_predictions.jsonl'\n",
    "# file_path = 'Text Analysis/finetuning/Llama-3-Cantonese-8B-Instruct_Openrice_test_alpaca_with_emojis_generated_predictions.jsonl'\n",
    "# file_path = 'Text Analysis/finetuning/Llama-3-Cantonese-8B-Instruct_Openrice_test_alpaca_with_emojis_texts_generated_predictions.jsonl'\n",
    "\n",
    "# file_path = 'Text Analysis/finetuning/Llama-3.1-Cantonese-8B-Instruct_Openrice_test_alpaca_no_emojis_generated_predictions.jsonl'\n",
    "# file_path = 'Text Analysis/finetuning/Llama-3.1-Cantonese-8B-Instruct_Openrice_test_alpaca_with_emojis_texts_generated_predictions.jsonl'\n",
    "# file_path = 'Text Analysis/finetuning/Llama-3.1-Cantonese-8B-Instruct_Openrice_test_alpaca_with_emojis_generated_predictions.jsonl'\n",
    "\n",
    "# file_path = 'Text Analysis/finetuning/Qwen-7B-Chat-Cantonese_Openrice_test_alpaca_no_emojis_generated_predictions.jsonl'\n",
    "# file_path = 'Text Analysis/finetuning/Qwen-7B-Chat-Cantonese_Openrice_test_alpaca_with_emojis_generated_predictions.jsonl'\n",
    "# file_path = 'Text Analysis/finetuning/Qwen-7B-Chat-Cantonese_Openrice_test_alpaca_with_emojis_texts_generated_predictions.jsonl'\n",
    "\n",
    "# file_path = 'Text Analysis/finetuning/Qwen2-Cantonese-7B-Instruct_Openrice_test_alpaca_no_emojis_generated_predictions.jsonl'\n",
    "# file_path = 'Text Analysis/finetuning/Qwen2-Cantonese-7B-Instruct_Openrice_test_alpaca_with_emojis_generated_predictions.jsonl'\n",
    "file_path = 'Text Analysis/finetuning/Qwen2-Cantonese-7B-Instruct_Openrice_test_alpaca_with_emojis_texts_generated_predictions.jsonl'\n",
    "\n",
    "\n",
    "main(file_path)"
   ]
  },
  {
   "cell_type": "code",
   "execution_count": null,
   "id": "cb088b8b",
   "metadata": {},
   "outputs": [],
   "source": []
  },
  {
   "cell_type": "code",
   "execution_count": null,
   "id": "7a20a641",
   "metadata": {},
   "outputs": [],
   "source": []
  }
 ],
 "metadata": {
  "kernelspec": {
   "display_name": "Python (intel_nlp)",
   "language": "python",
   "name": "intel_nlp"
  },
  "language_info": {
   "codemirror_mode": {
    "name": "ipython",
    "version": 3
   },
   "file_extension": ".py",
   "mimetype": "text/x-python",
   "name": "python",
   "nbconvert_exporter": "python",
   "pygments_lexer": "ipython3",
   "version": "3.6.15"
  }
 },
 "nbformat": 4,
 "nbformat_minor": 5
}
